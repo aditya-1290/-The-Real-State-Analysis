{
 "cells": [
  {
   "cell_type": "markdown",
   "metadata": {},
   "source": [
    "# Clustering\n",
    "\n",
    "This notebook covers unsupervised clustering algorithms to identify natural market segments in the property data."
   ]
  },
  {
   "cell_type": "code",
   "execution_count": null,
   "metadata": {},
   "outputs": [],
   "source": [
    "import pandas as pd\n",
    "from sklearn.cluster import KMeans, DBSCAN\n",
    "from sklearn.metrics import silhouette_score\n",
    "from sklearn.datasets import make_blobs\n",
    "import matplotlib.pyplot as plt\n",
    "\n",
    "# For demonstration, using sample data\n",
    "X, _ = make_blobs(n_samples=1000, centers=4, cluster_std=0.60, random_state=0)\n",
    "\n",
    "# K-Means Clustering\n",
    "kmeans = KMeans(n_clusters=4, random_state=42)\n",
    "kmeans_labels = kmeans.fit_predict(X)\n",
    "kmeans_silhouette = silhouette_score(X, kmeans_labels)\n",
    "print(f'K-Means Silhouette Score: {kmeans_silhouette:.4f}')\n",
    "\n",
    "# DBSCAN Clustering\n",
    "dbscan = DBSCAN(eps=0.3, min_samples=10)\n",
    "dbscan_labels = dbscan.fit_predict(X)\n",
    "if len(set(dbscan_labels)) > 1:\n",
    "    dbscan_silhouette = silhouette_score(X, dbscan_labels)\n",
    "    print(f'DBSCAN Silhouette Score: {dbscan_silhouette:.4f}')\n",
    "else:\n",
    "    print('DBSCAN found only one cluster or noise')\n",
    "\n",
    "# Visualize clusters\n",
    "plt.figure(figsize=(12, 5))\n",
    "\n",
    "plt.subplot(1, 2, 1)\n",
    "plt.scatter(X[:, 0], X[:, 1], c=kmeans_labels, cmap='viridis')\n",
    "plt.title('K-Means Clustering')\n",
    "\n",
    "plt.subplot(1, 2, 2)\n",
    "plt.scatter(X[:, 0], X[:, 1], c=dbscan_labels, cmap='viridis')\n",
    "plt.title('DBSCAN Clustering')\n",
    "\n",
    "plt.show()"
   ]
  }
 ],
 "metadata": {},
 "nbformat": 4,
 "nbformat_minor": 4
}
