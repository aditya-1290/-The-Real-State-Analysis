{
 "cells": [
  {
   "cell_type": "markdown",
   "metadata": {},
   "source": [
    "# Regression Models\n",
    "\n",
    "This notebook covers training and evaluation of various regression models for predicting property sale prices."
   ]
  },
  {
   "cell_type": "code",
   "execution_count": null,
   "metadata": {},
   "outputs": [],
   "source": [
    "import pandas as pd\n",
    "from sklearn.model_selection import train_test_split\n",
    "from src import regression\n",
    "\n",
    "# Load processed data (assuming from previous notebook)\n",
    "# df_processed = pd.read_csv('../data/processed/processed_data.csv')\n",
    "# X = df_processed.drop('SalePrice', axis=1)\n",
    "# y = df_processed['SalePrice']\n",
    "\n",
    "# For demonstration, using sample data\n",
    "from sklearn.datasets import make_regression\n",
    "X, y = make_regression(n_samples=1000, n_features=10, noise=0.1, random_state=42)\n",
    "\n",
    "# Split data\n",
    "X_train, X_test, y_train, y_test = train_test_split(X, y, test_size=0.2, random_state=42)\n",
    "\n",
    "# Train models\n",
    "models = {\n",
    "    'Linear Regression': regression.train_linear_regression(X_train, y_train),\n",
    "    'Ridge Regression': regression.train_ridge_regression(X_train, y_train),\n",
    "    'Lasso Regression': regression.train_lasso_regression(X_train, y_train),\n",
    "    'Decision Tree': regression.train_decision_tree(X_train, y_train),\n",
    "    'Random Forest': regression.train_random_forest(X_train, y_train),\n",
    "    'XGBoost': regression.train_xgboost(X_train, y_train),\n",
    "    'LightGBM': regression.train_lightgbm(X_train, y_train),\n",
    "    'CatBoost': regression.train_catboost(X_train, y_train),\n",
    "    'SVR': regression.train_svr(X_train, y_train)\n",
    "}\n",
    "\n",
    "# Evaluate models\n",
    "results = {}\n",
    "for name, model in models.items():\n",
    "    rmse, r2 = regression.evaluate_model(model, X_test, y_test)\n",
    "    results[name] = {'RMSE': rmse, 'R2': r2}\n",
    "    print(f'{name}: RMSE = {rmse:.4f}, R2 = {r2:.4f}')\n",
    "\n",
    "# Compare results\n",
    "results_df = pd.DataFrame(results).T\n",
    "print(results_df)"
   ]
  }
 ],
 "metadata": {},
 "nbformat": 4,
 "nbformat_minor": 4
}
