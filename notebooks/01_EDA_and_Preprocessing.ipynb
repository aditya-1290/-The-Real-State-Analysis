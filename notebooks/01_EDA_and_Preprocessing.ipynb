{
 "cells": [
  {
   "cell_type": "markdown",
   "metadata": {},
   "source": [
    "# EDA and Preprocessing\n",
    "\n",
    "This notebook handles Exploratory Data Analysis (EDA) and data preprocessing for the real estate dataset."
   ]
  },
  {
   "cell_type": "code",
   "execution_count": 2,
   "metadata": {},
   "outputs": [
    {
     "ename": "ModuleNotFoundError",
     "evalue": "No module named 'src'",
     "output_type": "error",
     "traceback": [
      "\u001b[31m---------------------------------------------------------------------------\u001b[39m",
      "\u001b[31mModuleNotFoundError\u001b[39m                       Traceback (most recent call last)",
      "\u001b[36mCell\u001b[39m\u001b[36m \u001b[39m\u001b[32mIn[2]\u001b[39m\u001b[32m, line 4\u001b[39m\n\u001b[32m      2\u001b[39m \u001b[38;5;28;01mimport\u001b[39;00m\u001b[38;5;250m \u001b[39m\u001b[34;01mmatplotlib\u001b[39;00m\u001b[34;01m.\u001b[39;00m\u001b[34;01mpyplot\u001b[39;00m\u001b[38;5;250m \u001b[39m\u001b[38;5;28;01mas\u001b[39;00m\u001b[38;5;250m \u001b[39m\u001b[34;01mplt\u001b[39;00m\n\u001b[32m      3\u001b[39m \u001b[38;5;28;01mimport\u001b[39;00m\u001b[38;5;250m \u001b[39m\u001b[34;01mseaborn\u001b[39;00m\u001b[38;5;250m \u001b[39m\u001b[38;5;28;01mas\u001b[39;00m\u001b[38;5;250m \u001b[39m\u001b[34;01msns\u001b[39;00m\n\u001b[32m----> \u001b[39m\u001b[32m4\u001b[39m \u001b[38;5;28;01mfrom\u001b[39;00m\u001b[38;5;250m \u001b[39m\u001b[34;01msrc\u001b[39;00m\u001b[38;5;250m \u001b[39m\u001b[38;5;28;01mimport\u001b[39;00m preprocessing, visualization\n\u001b[32m      6\u001b[39m \u001b[38;5;66;03m# Load raw data\u001b[39;00m\n\u001b[32m      7\u001b[39m data_path = \u001b[33m'\u001b[39m\u001b[33m../data/raw/test.csv\u001b[39m\u001b[33m'\u001b[39m  \u001b[38;5;66;03m# Update with your actual filename\u001b[39;00m\n",
      "\u001b[31mModuleNotFoundError\u001b[39m: No module named 'src'"
     ]
    }
   ],
   "source": [
    "import pandas as pd\n",
    "import matplotlib.pyplot as plt\n",
    "import seaborn as sns\n",
    "from src import preprocessing, visualization\n",
    "\n",
    "# Load raw data\n",
    "data_path = '../data/raw/test.csv'  # Update with your actual filename\n",
    "df = pd.read_csv(data_path)\n",
    "\n",
    "# Basic info\n",
    "print(df.info())\n",
    "print(df.describe())\n",
    "\n",
    "# Visualize distributions\n",
    "for col in ['SalePrice', 'LotArea', 'YearBuilt']:\n",
    "    visualization.plot_histogram(df, col)\n",
    "\n",
    "# Handle missing values\n",
    "df_num = df.select_dtypes(include=['number'])\n",
    "df_num_imputed = preprocessing.handle_missing_values(df_num, strategy='mean')\n",
    "\n",
    "# Feature engineering\n",
    "df = preprocessing.feature_engineering(df)\n",
    "\n",
    "# Encode categorical variables\n",
    "df_cat = df.select_dtypes(include=['object'])\n",
    "df_cat_encoded = preprocessing.encode_categorical(df_cat, method='onehot')\n",
    "\n",
    "# Scale numerical features\n",
    "df_num_scaled = preprocessing.scale_features(df_num_imputed, method='standard')\n",
    "\n",
    "# Combine processed features as needed for modeling\n",
    "# ...\n",
    "\n",
    "print('Preprocessing complete.')"
   ]
  }
 ],
 "metadata": {
  "kernelspec": {
   "display_name": "anabelle_env",
   "language": "python",
   "name": "python3"
  },
  "language_info": {
   "codemirror_mode": {
    "name": "ipython",
    "version": 3
   },
   "file_extension": ".py",
   "mimetype": "text/x-python",
   "name": "python",
   "nbconvert_exporter": "python",
   "pygments_lexer": "ipython3",
   "version": "3.13.3"
  }
 },
 "nbformat": 4,
 "nbformat_minor": 4
}
