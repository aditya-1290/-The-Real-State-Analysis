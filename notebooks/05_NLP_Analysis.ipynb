{
 "cells": [
  {
   "cell_type": "markdown",
   "metadata": {},
   "source": [
    "# NLP Analysis\n",
    "\n",
    "This notebook covers Natural Language Processing techniques to analyze property descriptions and improve model performance."
   ]
  },
  {
   "cell_type": "code",
   "execution_count": null,
   "metadata": {},
   "outputs": [],
   "source": [
    "import pandas as pd\n",
    "from sklearn.feature_extraction.text import TfidfVectorizer\n",
    "from textblob import TextBlob\n",
    "from sklearn.decomposition import LatentDirichletAllocation\n",
    "import nltk\n",
    "nltk.download('punkt')\n",
    "\n",
    "# Sample text data (replace with actual data)\n",
    "texts = [\n",
    "    \"Beautiful modern home with spacious garden and updated kitchen.\",\n",
    "    \"Cozy family house in quiet neighborhood with large backyard.\",\n",
    "    \"Luxury condo with stunning city views and high-end finishes.\",\n",
    "    \"Historic Victorian home with original features and charm.\",\n",
    "    \"Contemporary apartment with open floor plan and modern amenities.\"\n",
    "]\n",
    "\n",
    "# TF-IDF Vectorization\n",
    "tfidf_vectorizer = TfidfVectorizer(max_features=1000, stop_words='english')\n",
    "tfidf_matrix = tfidf_vectorizer.fit_transform(texts)\n",
    "print(f'TF-IDF Matrix Shape: {tfidf_matrix.shape}')\n",
    "\n",
    "# Sentiment Analysis\n",
    "sentiments = []\n",
    "for text in texts:\n",
    "    blob = TextBlob(text)\n",
    "    sentiment = blob.sentiment.polarity\n",
    "    sentiments.append(sentiment)\n",
    "    print(f'Text: {text[:50]}... Sentiment: {sentiment:.2f}')\n",
    "\n",
    "# Topic Modeling with LDA\n",
    "lda = LatentDirichletAllocation(n_components=2, random_state=42)\n",
    "lda_topics = lda.fit_transform(tfidf_matrix)\n",
    "print(f'LDA Topics Shape: {lda_topics.shape}')\n",
    "\n",
    "# Display top words for each topic\n",
    "feature_names = tfidf_vectorizer.get_feature_names_out()\n",
    "for topic_idx, topic in enumerate(lda.components_):\n",
    "    print(f'Topic {topic_idx}:')\n",
    "    top_words = [feature_names[i] for i in topic.argsort()[:-11:-1]]\n",
    "    print(' '.join(top_words))"
   ]
  }
 ],
 "metadata": {},
 "nbformat": 4,
 "nbformat_minor": 4
}
